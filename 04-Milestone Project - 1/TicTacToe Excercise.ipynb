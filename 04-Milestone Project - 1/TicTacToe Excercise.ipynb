{
 "cells": [
  {
   "cell_type": "code",
   "execution_count": 4,
   "metadata": {},
   "outputs": [],
   "source": [
    "\n",
    "    "
   ]
  },
  {
   "cell_type": "code",
   "execution_count": 1,
   "metadata": {},
   "outputs": [],
   "source": [
    "checkerslist = [['x','o','o'],['o','o','x'],['o','x','x']]\n",
    "def Printboard(checkerslist):\n",
    "    #checkerslist = [['x','y','z'],['s',' ',' '],[' ',' ','s']]\n",
    "    str = ''\n",
    "    for i in range(0,len(checkerslist)):\n",
    "        str = ''\n",
    "        for j in range(0,len(checkerslist[i])):\n",
    "            str = str + ' '+checkerslist[i][j] + ' |'\n",
    "        print('-------------')\n",
    "        print(f'|{str}')\n",
    "    print('-------------')\n",
    "    #def Printboard():Printboard(checkerslist)"
   ]
  },
  {
   "cell_type": "code",
   "execution_count": 1,
   "metadata": {},
   "outputs": [],
   "source": [
    "\n",
    "\n",
    "\n"
   ]
  },
  {
   "cell_type": "code",
   "execution_count": 7,
   "metadata": {},
   "outputs": [
    {
     "name": "stdout",
     "output_type": "stream",
     "text": [
      "1\n",
      "2\n",
      "-------------\n",
      "| x | o | o |\n",
      "-------------\n",
      "| o | o | 0 |\n",
      "-------------\n",
      "| o | x | x |\n",
      "-------------\n"
     ]
    }
   ],
   "source": [
    "checkerslist = [['x','o','o'],['o','o','x'],['o','x','x']]\n",
    "insertchecker('0',6)\n",
    "Printboard(checkerslist)"
   ]
  },
  {
   "cell_type": "code",
   "execution_count": null,
   "metadata": {},
   "outputs": [],
   "source": [
    "validateGame(checkerslist)"
   ]
  },
  {
   "cell_type": "code",
   "execution_count": 1,
   "metadata": {},
   "outputs": [],
   "source": [
    "checkerslist = [[' ',' ',' '],[' ',' ',' '],[' ',' ',' ']]\n",
    "posrowdict = {'1':0,'2':0,'3':0,'4':1,'5':1,'6':1,'7':2,'8':2,'9':2}\n",
    "poscoldict = {'1':0,'2':1,'3':2,'4':0,'5':1,'6':2,'7':0,'8':1,'9':2}\n",
    "\n",
    "from IPython.display import clear_output as co\n",
    "\n",
    "\n",
    "def validateGame(checkerslist):\n",
    "    for i in range(0,len(checkerslist)):\n",
    "        if checkerslist[i][0] == checkerslist[i][1]== checkerslist[i][2] and checkerslist[i][0]!=' ':\n",
    "            return True\n",
    "    \n",
    "    for i in range(0,len(checkerslist)):\n",
    "        if checkerslist[0][i] == checkerslist[1][i]== checkerslist[2][i] and checkerslist[0][i]!=' ':\n",
    "            return True\n",
    "\n",
    "    if checkerslist[0][0] == checkerslist[1][1]== checkerslist[2][2] and checkerslist[0][0]!=' ':\n",
    "        return True\n",
    "\n",
    "    if checkerslist[0][2] == checkerslist[1][1]== checkerslist[2][0] and checkerslist[1][1]!=' ':\n",
    "        return True\n",
    "    \n",
    "\n",
    "\n",
    "def insertchecker(checker,playerInp):\n",
    "    a = int(posrowdict['{}'.format(playerInp)])\n",
    "    b = int(poscoldict['{}'.format(playerInp)])\n",
    " #   print (a)\n",
    "  #  print (b)\n",
    "    checkerslist[a][b] = checker\n",
    "    return True\n",
    "\n",
    "def Printboard(checkerslist):\n",
    "    co()\n",
    "    #checkerslist = [['x','y','z'],['s',' ',' '],[' ',' ','s']]\n",
    "    str = ''\n",
    "    for i in range(0,len(checkerslist)):\n",
    "        str = ''\n",
    "        for j in range(0,len(checkerslist[i])):\n",
    "            str = str + ' '+checkerslist[i][j] + ' |'\n",
    "        print('-------------')\n",
    "        print(f'|{str}')\n",
    "    print('-------------')\n",
    "    #def Printboard():\n",
    "\n",
    "\n",
    "def TictocMain():\n",
    "    #checkerslist = [[' ',' ',' '],[' ',' ',' '],[' ',' ',' ']]\n",
    "    print ('Welcome to Tic Toc Game!!!.')\n",
    "    print('\\n')\n",
    "    print (\"Please Enter Players Names\")\n",
    "    print('\\n')\n",
    "    player1 = input(\"Enter Player 1 Name : \")\n",
    "    player2 = input(\"Enter Player 2 Name : \")\n",
    "    \n",
    "    print('\\n')\n",
    "    \n",
    "    print (f\"{player1}'s checker is x(small)\")\n",
    "    print (f\"{player2}'s checker is o(small)\")\n",
    "    print('\\n')\n",
    "\n",
    "    demo = [['1','2','3'],['4','5','6'],['7','8','9']]\n",
    "    Printboard(demo)\n",
    "    print('\\n')\n",
    "    print(\"Use Keyboard keys 1 to 9 in sequence for playing the game as Keypad\")\n",
    "    print('\\n')\n",
    "    player1Inp = ''\n",
    "    player2Inp = ''\n",
    "    \n",
    "    gameover = False\n",
    "    validInput = False\n",
    "    \n",
    "    filledlist = [1,2,3,4,5,6,7,8,9]\n",
    "   # print(1 in filledlist)\n",
    "    \n",
    "    while not(gameover):\n",
    "\n",
    "        while not validInput and gameover != True:\n",
    "            player1Inp = int(input(f\"{player1} Input : \"))\n",
    "            validInput = int(player1Inp) in filledlist\n",
    "           # print(f'amdddn {validInput}')\n",
    "            #print('a1 {}'.format(validInput))\n",
    "            if(len(filledlist)==0):\n",
    "                gameover = True\n",
    "                print('Game Over!!! There is no Winner, Pleae play Again')\n",
    "                break\n",
    "            if validInput:\n",
    "                #print('a2 {}'.format(validInput))\n",
    "                filledlist.pop(filledlist.index(int(player1Inp)))\n",
    "                #print(filledlist)\n",
    "                insertchecker('x',player1Inp)\n",
    "                #print('a4 {}'.format(validInput))\n",
    "                Printboard(checkerslist)\n",
    "                #print('a5 {}'.format(validInput))\n",
    "                if validateGame(checkerslist):\n",
    "                    gameover = True\n",
    "                    print(f'Congratulation {player1} Won the GAME!!!')\n",
    "                    break\n",
    "        \n",
    "        validInput = False\n",
    "        while not validInput and gameover != True:\n",
    "            player2Inp = int(input(f\"{player2} Input : \"))\n",
    "            validInput = player2Inp in filledlist\n",
    "            if(len(filledlist)==0):\n",
    "                gameover = True\n",
    "                print('Game Over!!! There is no Winner')\n",
    "                break\n",
    "            if validInput:\n",
    "                #print(filledlist)\n",
    "                #print('a6 {}'.format(validInput))\n",
    "                #print('a7 {}'.format(filledlist.index(int(player2Inp))))\n",
    "                filledlist.pop(filledlist.index(int(player2Inp)))\n",
    "                #print(filledlist)\n",
    "                insertchecker('o',player2Inp)\n",
    "                Printboard(checkerslist)\n",
    "                if validateGame(checkerslist):\n",
    "                    gameover = True\n",
    "                    print(f'Congratulation {player2} Won the GAME!!!')\n",
    "                    break\n",
    "\n",
    "        validInput = False\n",
    "\n",
    "        "
   ]
  },
  {
   "cell_type": "code",
   "execution_count": 2,
   "metadata": {},
   "outputs": [
    {
     "name": "stdout",
     "output_type": "stream",
     "text": [
      "-------------\n",
      "| x | o | x |\n",
      "-------------\n",
      "| o | x | o |\n",
      "-------------\n",
      "| x |   |   |\n",
      "-------------\n",
      "Congratulation q Won the GAME!!!\n"
     ]
    }
   ],
   "source": [
    "TictocMain()"
   ]
  },
  {
   "cell_type": "code",
   "execution_count": null,
   "metadata": {},
   "outputs": [],
   "source": []
  },
  {
   "cell_type": "code",
   "execution_count": null,
   "metadata": {},
   "outputs": [],
   "source": []
  },
  {
   "cell_type": "code",
   "execution_count": null,
   "metadata": {},
   "outputs": [],
   "source": []
  },
  {
   "cell_type": "code",
   "execution_count": null,
   "metadata": {},
   "outputs": [],
   "source": []
  },
  {
   "cell_type": "code",
   "execution_count": null,
   "metadata": {},
   "outputs": [],
   "source": []
  }
 ],
 "metadata": {
  "kernelspec": {
   "display_name": "Python 3",
   "language": "python",
   "name": "python3"
  },
  "language_info": {
   "codemirror_mode": {
    "name": "ipython",
    "version": 3
   },
   "file_extension": ".py",
   "mimetype": "text/x-python",
   "name": "python",
   "nbconvert_exporter": "python",
   "pygments_lexer": "ipython3",
   "version": "3.7.6"
  }
 },
 "nbformat": 4,
 "nbformat_minor": 4
}
