{
 "cells": [
  {
   "cell_type": "code",
   "execution_count": 8,
   "metadata": {},
   "outputs": [
    {
     "name": "stdout",
     "output_type": "stream",
     "text": [
      "Zoha is my darling\n"
     ]
    }
   ],
   "source": [
    "name  = 'Zoha'\n",
    "\n",
    "if name  == 'Ameen':\n",
    "    print(name + ' is good boy')\n",
    "elif name  == 'Zainu' :\n",
    "    print(name + ' is naughty boy')\n",
    "else:\n",
    "    print (name + ' is my darling')"
   ]
  },
  {
   "cell_type": "code",
   "execution_count": 22,
   "metadata": {},
   "outputs": [
    {
     "name": "stdout",
     "output_type": "stream",
     "text": [
      "10\n",
      "21\n",
      "23\n",
      "366\n",
      "[343, 2, 11, 10]\n"
     ]
    }
   ],
   "source": [
    "tempvar1=0\n",
    "num = [10,11,2,343]\n",
    "for i in num:\n",
    "    tempvar1= i+tempvar1\n",
    "    print(tempvar1)\n",
    "\n",
    "num.reverse()\n",
    "print(num)\n"
   ]
  },
  {
   "cell_type": "code",
   "execution_count": 25,
   "metadata": {},
   "outputs": [
    {
     "name": "stdout",
     "output_type": "stream",
     "text": [
      "c = 33\n",
      "c = 77\n",
      "c = 121\n",
      "myset = {33, 77, 121}\n"
     ]
    }
   ],
   "source": [
    "tuple1 =([11,22], [33,44], [55,66])\n",
    "myset  = set()\n",
    "for a,b in tuple1:\n",
    "    print (f\"c = {a+b}\")\n",
    "    myset.add(a+b)\n",
    "\n",
    "print('myset = {}'.format(myset))\n"
   ]
  },
  {
   "cell_type": "code",
   "execution_count": 29,
   "metadata": {},
   "outputs": [],
   "source": [
    "mydict={'k1':'11','k2':33}"
   ]
  },
  {
   "cell_type": "code",
   "execution_count": 42,
   "metadata": {},
   "outputs": [
    {
     "name": "stdout",
     "output_type": "stream",
     "text": [
      "k1\n",
      "k2\n"
     ]
    }
   ],
   "source": [
    "for i,j in mydict.items():\n",
    "    print(i)"
   ]
  },
  {
   "cell_type": "code",
   "execution_count": 43,
   "metadata": {},
   "outputs": [
    {
     "name": "stdout",
     "output_type": "stream",
     "text": [
      "0\n",
      "2\n",
      "4\n",
      "6\n",
      "8\n",
      "10\n",
      "12\n",
      "14\n",
      "16\n",
      "18\n",
      "20\n",
      "22\n",
      "24\n",
      "26\n",
      "28\n",
      "30\n",
      "32\n",
      "34\n",
      "36\n",
      "38\n",
      "40\n",
      "42\n",
      "44\n",
      "46\n",
      "48\n",
      "50\n",
      "52\n",
      "54\n",
      "56\n",
      "58\n",
      "60\n",
      "62\n",
      "64\n",
      "66\n",
      "68\n",
      "70\n",
      "72\n",
      "74\n",
      "76\n",
      "78\n",
      "80\n",
      "82\n",
      "84\n",
      "86\n",
      "88\n",
      "90\n",
      "92\n",
      "94\n",
      "96\n",
      "98\n"
     ]
    }
   ],
   "source": [
    "for i in range(0,100,2):\n",
    "    print (i)"
   ]
  },
  {
   "cell_type": "code",
   "execution_count": 54,
   "metadata": {},
   "outputs": [],
   "source": [
    "mylist = list(range(1,10,2))"
   ]
  },
  {
   "cell_type": "code",
   "execution_count": 55,
   "metadata": {},
   "outputs": [
    {
     "data": {
      "text/plain": [
       "[1, 3, 5, 7, 9]"
      ]
     },
     "execution_count": 55,
     "metadata": {},
     "output_type": "execute_result"
    }
   ],
   "source": [
    "mylist"
   ]
  },
  {
   "cell_type": "code",
   "execution_count": 58,
   "metadata": {},
   "outputs": [
    {
     "name": "stdout",
     "output_type": "stream",
     "text": [
      "(0, 'Z')\n",
      "0\n",
      "(1, 'a')\n",
      "1\n",
      "(2, 'i')\n",
      "2\n",
      "(3, 'n')\n",
      "3\n",
      "(4, 'Z')\n",
      "4\n",
      "(5, 'o')\n",
      "5\n",
      "(6, 'h')\n",
      "6\n",
      "(7, 'a')\n",
      "7\n",
      "(8, 'Z')\n",
      "8\n",
      "(9, 'a')\n",
      "9\n",
      "(10, 'r')\n",
      "10\n",
      "(11, 'a')\n",
      "11\n"
     ]
    }
   ],
   "source": [
    "name  = 'ZainZohaZara'\n",
    "\n",
    "for i in enumerate(name):\n",
    "    print (i)\n",
    "    print (i[0])"
   ]
  },
  {
   "cell_type": "code",
   "execution_count": null,
   "metadata": {},
   "outputs": [],
   "source": []
  }
 ],
 "metadata": {
  "kernelspec": {
   "display_name": "Python 3",
   "language": "python",
   "name": "python3"
  },
  "language_info": {
   "codemirror_mode": {
    "name": "ipython",
    "version": 3
   },
   "file_extension": ".py",
   "mimetype": "text/x-python",
   "name": "python",
   "nbconvert_exporter": "python",
   "pygments_lexer": "ipython3",
   "version": "3.7.6"
  }
 },
 "nbformat": 4,
 "nbformat_minor": 4
}
