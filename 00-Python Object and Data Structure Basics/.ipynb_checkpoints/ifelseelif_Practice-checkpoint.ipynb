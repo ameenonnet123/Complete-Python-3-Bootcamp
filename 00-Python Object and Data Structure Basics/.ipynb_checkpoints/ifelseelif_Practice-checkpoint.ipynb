{
 "cells": [
  {
   "cell_type": "code",
   "execution_count": 8,
   "metadata": {},
   "outputs": [
    {
     "name": "stdout",
     "output_type": "stream",
     "text": [
      "Zoha is my darling\n"
     ]
    }
   ],
   "source": [
    "name  = 'Zoha'\n",
    "\n",
    "if name  == 'Ameen':\n",
    "    print(name + ' is good boy')\n",
    "elif name  == 'Zainu' :\n",
    "    print(name + ' is naughty boy')\n",
    "else:\n",
    "    print (name + ' is my darling')"
   ]
  },
  {
   "cell_type": "code",
   "execution_count": 22,
   "metadata": {},
   "outputs": [
    {
     "name": "stdout",
     "output_type": "stream",
     "text": [
      "10\n",
      "21\n",
      "23\n",
      "366\n",
      "[343, 2, 11, 10]\n"
     ]
    }
   ],
   "source": [
    "tempvar1=0\n",
    "num = [10,11,2,343]\n",
    "for i in num:\n",
    "    tempvar1= i+tempvar1\n",
    "    print(tempvar1)\n",
    "\n",
    "num.reverse()\n",
    "print(num)\n"
   ]
  },
  {
   "cell_type": "code",
   "execution_count": 25,
   "metadata": {},
   "outputs": [
    {
     "name": "stdout",
     "output_type": "stream",
     "text": [
      "c = 33\n",
      "c = 77\n",
      "c = 121\n",
      "myset = {33, 77, 121}\n"
     ]
    }
   ],
   "source": [
    "tuple1 =([11,22], [33,44], [55,66])\n",
    "myset  = set()\n",
    "for a,b in tuple1:\n",
    "    print (f\"c = {a+b}\")\n",
    "    myset.add(a+b)\n",
    "\n",
    "print('myset = {}'.format(myset))\n"
   ]
  },
  {
   "cell_type": "code",
   "execution_count": 29,
   "metadata": {},
   "outputs": [],
   "source": [
    "mydict={'k1':'11','k2':33}"
   ]
  },
  {
   "cell_type": "code",
   "execution_count": 42,
   "metadata": {},
   "outputs": [
    {
     "name": "stdout",
     "output_type": "stream",
     "text": [
      "k1\n",
      "k2\n"
     ]
    }
   ],
   "source": [
    "for i,j in mydict.items():\n",
    "    print(i)"
   ]
  },
  {
   "cell_type": "code",
   "execution_count": 43,
   "metadata": {},
   "outputs": [
    {
     "name": "stdout",
     "output_type": "stream",
     "text": [
      "0\n",
      "2\n",
      "4\n",
      "6\n",
      "8\n",
      "10\n",
      "12\n",
      "14\n",
      "16\n",
      "18\n",
      "20\n",
      "22\n",
      "24\n",
      "26\n",
      "28\n",
      "30\n",
      "32\n",
      "34\n",
      "36\n",
      "38\n",
      "40\n",
      "42\n",
      "44\n",
      "46\n",
      "48\n",
      "50\n",
      "52\n",
      "54\n",
      "56\n",
      "58\n",
      "60\n",
      "62\n",
      "64\n",
      "66\n",
      "68\n",
      "70\n",
      "72\n",
      "74\n",
      "76\n",
      "78\n",
      "80\n",
      "82\n",
      "84\n",
      "86\n",
      "88\n",
      "90\n",
      "92\n",
      "94\n",
      "96\n",
      "98\n"
     ]
    }
   ],
   "source": [
    "for i in range(0,100,2):\n",
    "    print (i)"
   ]
  },
  {
   "cell_type": "code",
   "execution_count": 54,
   "metadata": {},
   "outputs": [],
   "source": [
    "mylist = list(range(1,10,2))"
   ]
  },
  {
   "cell_type": "code",
   "execution_count": 55,
   "metadata": {},
   "outputs": [
    {
     "data": {
      "text/plain": [
       "[1, 3, 5, 7, 9]"
      ]
     },
     "execution_count": 55,
     "metadata": {},
     "output_type": "execute_result"
    }
   ],
   "source": [
    "mylist"
   ]
  },
  {
   "cell_type": "code",
   "execution_count": 58,
   "metadata": {},
   "outputs": [
    {
     "name": "stdout",
     "output_type": "stream",
     "text": [
      "(0, 'Z')\n",
      "0\n",
      "(1, 'a')\n",
      "1\n",
      "(2, 'i')\n",
      "2\n",
      "(3, 'n')\n",
      "3\n",
      "(4, 'Z')\n",
      "4\n",
      "(5, 'o')\n",
      "5\n",
      "(6, 'h')\n",
      "6\n",
      "(7, 'a')\n",
      "7\n",
      "(8, 'Z')\n",
      "8\n",
      "(9, 'a')\n",
      "9\n",
      "(10, 'r')\n",
      "10\n",
      "(11, 'a')\n",
      "11\n"
     ]
    }
   ],
   "source": [
    "name  = 'ZainZohaZara'\n",
    "\n",
    "for i in enumerate(name):\n",
    "    print (i)\n",
    "    print (i[0])"
   ]
  },
  {
   "cell_type": "code",
   "execution_count": 60,
   "metadata": {},
   "outputs": [],
   "source": [
    "mylist=[1,2,44]\n",
    "mylist1=['a','b','c']"
   ]
  },
  {
   "cell_type": "code",
   "execution_count": 86,
   "metadata": {},
   "outputs": [],
   "source": [
    "mytupzip = zip(mylist, mylist1)"
   ]
  },
  {
   "cell_type": "code",
   "execution_count": 87,
   "metadata": {},
   "outputs": [
    {
     "name": "stdout",
     "output_type": "stream",
     "text": [
      "1\n",
      "2\n",
      "44\n"
     ]
    }
   ],
   "source": [
    "for i in list(mytupzip):\n",
    "    print (i[0])"
   ]
  },
  {
   "cell_type": "code",
   "execution_count": 96,
   "metadata": {},
   "outputs": [
    {
     "data": {
      "text/plain": [
       "False"
      ]
     },
     "execution_count": 96,
     "metadata": {},
     "output_type": "execute_result"
    }
   ],
   "source": [
    "x = 101\n",
    "x in range(1,100)"
   ]
  },
  {
   "cell_type": "code",
   "execution_count": 101,
   "metadata": {},
   "outputs": [],
   "source": [
    "mydict4 = {'k1':22,'k2':555}"
   ]
  },
  {
   "cell_type": "code",
   "execution_count": 107,
   "metadata": {},
   "outputs": [
    {
     "data": {
      "text/plain": [
       "True"
      ]
     },
     "execution_count": 107,
     "metadata": {},
     "output_type": "execute_result"
    }
   ],
   "source": [
    "x = 'k1'\n",
    "x in list(mydict4.items())[0]"
   ]
  },
  {
   "cell_type": "code",
   "execution_count": 109,
   "metadata": {},
   "outputs": [
    {
     "data": {
      "text/plain": [
       "dict_items([('k1', 22), ('k2', 555)])"
      ]
     },
     "execution_count": 109,
     "metadata": {},
     "output_type": "execute_result"
    }
   ],
   "source": [
    "mydict4.items()"
   ]
  },
  {
   "cell_type": "code",
   "execution_count": 110,
   "metadata": {},
   "outputs": [
    {
     "data": {
      "text/plain": [
       "True"
      ]
     },
     "execution_count": 110,
     "metadata": {},
     "output_type": "execute_result"
    }
   ],
   "source": [
    "x in mydict4.keys()"
   ]
  },
  {
   "cell_type": "code",
   "execution_count": 114,
   "metadata": {},
   "outputs": [],
   "source": [
    "farhenheit = [90,10,40]\n",
    "\n",
    "celcius  = [int(x/3*(9/5)) for x in farhenheit]"
   ]
  },
  {
   "cell_type": "code",
   "execution_count": 115,
   "metadata": {},
   "outputs": [
    {
     "data": {
      "text/plain": [
       "[54, 6, 24]"
      ]
     },
     "execution_count": 115,
     "metadata": {},
     "output_type": "execute_result"
    }
   ],
   "source": [
    "celcius"
   ]
  },
  {
   "cell_type": "code",
   "execution_count": 123,
   "metadata": {},
   "outputs": [],
   "source": [
    "celcius1 = []\n",
    "for i in farhenheit:\n",
    "    celcius1.append(float(i))"
   ]
  },
  {
   "cell_type": "code",
   "execution_count": 127,
   "metadata": {},
   "outputs": [
    {
     "data": {
      "text/plain": [
       "[90.0, 10.0, 40.0]"
      ]
     },
     "execution_count": 127,
     "metadata": {},
     "output_type": "execute_result"
    }
   ],
   "source": [
    "celcius1"
   ]
  },
  {
   "cell_type": "code",
   "execution_count": 143,
   "metadata": {},
   "outputs": [],
   "source": [
    "list6  = [\"{} is even number\".format(x) if x%2 == 0 else str(x) +' is ODD' for x in range(0,100)]"
   ]
  },
  {
   "cell_type": "code",
   "execution_count": 144,
   "metadata": {},
   "outputs": [
    {
     "data": {
      "text/plain": [
       "['0 is even number',\n",
       " '1 is ODD',\n",
       " '2 is even number',\n",
       " '3 is ODD',\n",
       " '4 is even number',\n",
       " '5 is ODD',\n",
       " '6 is even number',\n",
       " '7 is ODD',\n",
       " '8 is even number',\n",
       " '9 is ODD',\n",
       " '10 is even number',\n",
       " '11 is ODD',\n",
       " '12 is even number',\n",
       " '13 is ODD',\n",
       " '14 is even number',\n",
       " '15 is ODD',\n",
       " '16 is even number',\n",
       " '17 is ODD',\n",
       " '18 is even number',\n",
       " '19 is ODD',\n",
       " '20 is even number',\n",
       " '21 is ODD',\n",
       " '22 is even number',\n",
       " '23 is ODD',\n",
       " '24 is even number',\n",
       " '25 is ODD',\n",
       " '26 is even number',\n",
       " '27 is ODD',\n",
       " '28 is even number',\n",
       " '29 is ODD',\n",
       " '30 is even number',\n",
       " '31 is ODD',\n",
       " '32 is even number',\n",
       " '33 is ODD',\n",
       " '34 is even number',\n",
       " '35 is ODD',\n",
       " '36 is even number',\n",
       " '37 is ODD',\n",
       " '38 is even number',\n",
       " '39 is ODD',\n",
       " '40 is even number',\n",
       " '41 is ODD',\n",
       " '42 is even number',\n",
       " '43 is ODD',\n",
       " '44 is even number',\n",
       " '45 is ODD',\n",
       " '46 is even number',\n",
       " '47 is ODD',\n",
       " '48 is even number',\n",
       " '49 is ODD',\n",
       " '50 is even number',\n",
       " '51 is ODD',\n",
       " '52 is even number',\n",
       " '53 is ODD',\n",
       " '54 is even number',\n",
       " '55 is ODD',\n",
       " '56 is even number',\n",
       " '57 is ODD',\n",
       " '58 is even number',\n",
       " '59 is ODD',\n",
       " '60 is even number',\n",
       " '61 is ODD',\n",
       " '62 is even number',\n",
       " '63 is ODD',\n",
       " '64 is even number',\n",
       " '65 is ODD',\n",
       " '66 is even number',\n",
       " '67 is ODD',\n",
       " '68 is even number',\n",
       " '69 is ODD',\n",
       " '70 is even number',\n",
       " '71 is ODD',\n",
       " '72 is even number',\n",
       " '73 is ODD',\n",
       " '74 is even number',\n",
       " '75 is ODD',\n",
       " '76 is even number',\n",
       " '77 is ODD',\n",
       " '78 is even number',\n",
       " '79 is ODD',\n",
       " '80 is even number',\n",
       " '81 is ODD',\n",
       " '82 is even number',\n",
       " '83 is ODD',\n",
       " '84 is even number',\n",
       " '85 is ODD',\n",
       " '86 is even number',\n",
       " '87 is ODD',\n",
       " '88 is even number',\n",
       " '89 is ODD',\n",
       " '90 is even number',\n",
       " '91 is ODD',\n",
       " '92 is even number',\n",
       " '93 is ODD',\n",
       " '94 is even number',\n",
       " '95 is ODD',\n",
       " '96 is even number',\n",
       " '97 is ODD',\n",
       " '98 is even number',\n",
       " '99 is ODD']"
      ]
     },
     "execution_count": 144,
     "metadata": {},
     "output_type": "execute_result"
    }
   ],
   "source": [
    "list6"
   ]
  },
  {
   "cell_type": "code",
   "execution_count": 151,
   "metadata": {},
   "outputs": [],
   "source": [
    "mylist6 = [x*y for x in (2,4,5) for y in (6,7,8) if x*y>20]"
   ]
  },
  {
   "cell_type": "code",
   "execution_count": 150,
   "metadata": {},
   "outputs": [
    {
     "data": {
      "text/plain": [
       "[24, 28, 32, 30, 35, 40]"
      ]
     },
     "execution_count": 150,
     "metadata": {},
     "output_type": "execute_result"
    }
   ],
   "source": [
    "mylist6"
   ]
  },
  {
   "cell_type": "code",
   "execution_count": 154,
   "metadata": {},
   "outputs": [
    {
     "name": "stdout",
     "output_type": "stream",
     "text": [
      "my\n",
      "goal\n",
      "is\n",
      "very\n",
      "important\n",
      "for\n",
      "my\n",
      "career\n",
      "now\n",
      "either\n",
      "i\n",
      "have\n",
      "to\n",
      "switch\n",
      "to\n",
      "new\n",
      "technology\n",
      "or\n",
      "leave\n",
      "TCS\n",
      "for\n",
      "better\n",
      "organization\n"
     ]
    }
   ],
   "source": [
    "mystring3 = 'my goal is very important for my career now either i have to switch to new technology or leave TCS for better organization'\n",
    "\n",
    "for mychar in mystring3.split():\n",
    "    print(mychar)"
   ]
  },
  {
   "cell_type": "code",
   "execution_count": 155,
   "metadata": {},
   "outputs": [
    {
     "name": "stdout",
     "output_type": "stream",
     "text": [
      "enter the nameAmeen\n"
     ]
    }
   ],
   "source": [
    "vName = input(\"enter the name\")"
   ]
  },
  {
   "cell_type": "code",
   "execution_count": 158,
   "metadata": {},
   "outputs": [
    {
     "name": "stdout",
     "output_type": "stream",
     "text": [
      "Ameen\n"
     ]
    }
   ],
   "source": [
    "print(vName)"
   ]
  },
  {
   "cell_type": "code",
   "execution_count": 167,
   "metadata": {},
   "outputs": [],
   "source": [
    "def CheckName(vName):\n",
    "    if vName  == 'Ameen':\n",
    "        return 'He is a good learner'\n",
    "    else:\n",
    "        return \"Lets learn and excel\"\n",
    "        "
   ]
  },
  {
   "cell_type": "code",
   "execution_count": 168,
   "metadata": {},
   "outputs": [
    {
     "data": {
      "text/plain": [
       "'He is a good learner'"
      ]
     },
     "execution_count": 168,
     "metadata": {},
     "output_type": "execute_result"
    }
   ],
   "source": [
    "CheckName(vName)"
   ]
  },
  {
   "cell_type": "code",
   "execution_count": 169,
   "metadata": {},
   "outputs": [
    {
     "data": {
      "text/plain": [
       "'Lets learn and excel'"
      ]
     },
     "execution_count": 169,
     "metadata": {},
     "output_type": "execute_result"
    }
   ],
   "source": [
    "CheckName('why')"
   ]
  },
  {
   "cell_type": "code",
   "execution_count": 175,
   "metadata": {},
   "outputs": [],
   "source": [
    "def check_v_c(word):\n",
    "    if word[0] in ['a','e','i','o','u']:\n",
    "        word = word+'ay'\n",
    "        return word\n",
    "    else:\n",
    "        word[0] = None\n",
    "        word = \n",
    "        return word\n",
    "    \n",
    "    st = 'aaa'\n",
    "    st."
   ]
  },
  {
   "cell_type": "code",
   "execution_count": 176,
   "metadata": {},
   "outputs": [
    {
     "ename": "TypeError",
     "evalue": "lstrip arg must be None or str",
     "output_type": "error",
     "traceback": [
      "\u001b[1;31m---------------------------------------------------------------------------\u001b[0m",
      "\u001b[1;31mTypeError\u001b[0m                                 Traceback (most recent call last)",
      "\u001b[1;32m<ipython-input-176-b113d37bfe66>\u001b[0m in \u001b[0;36m<module>\u001b[1;34m\u001b[0m\n\u001b[1;32m----> 1\u001b[1;33m \u001b[0mcheck_v_c\u001b[0m\u001b[1;33m(\u001b[0m\u001b[1;34m'cmeen'\u001b[0m\u001b[1;33m)\u001b[0m\u001b[1;33m\u001b[0m\u001b[1;33m\u001b[0m\u001b[0m\n\u001b[0m",
      "\u001b[1;32m<ipython-input-175-928b943a9d62>\u001b[0m in \u001b[0;36mcheck_v_c\u001b[1;34m(word)\u001b[0m\n\u001b[0;32m      4\u001b[0m         \u001b[1;32mreturn\u001b[0m \u001b[0mword\u001b[0m\u001b[1;33m\u001b[0m\u001b[1;33m\u001b[0m\u001b[0m\n\u001b[0;32m      5\u001b[0m     \u001b[1;32melse\u001b[0m\u001b[1;33m:\u001b[0m\u001b[1;33m\u001b[0m\u001b[1;33m\u001b[0m\u001b[0m\n\u001b[1;32m----> 6\u001b[1;33m         \u001b[0mword\u001b[0m\u001b[1;33m.\u001b[0m\u001b[0mlstrip\u001b[0m\u001b[1;33m(\u001b[0m\u001b[1;36m0\u001b[0m\u001b[1;33m)\u001b[0m\u001b[1;33m\u001b[0m\u001b[1;33m\u001b[0m\u001b[0m\n\u001b[0m\u001b[0;32m      7\u001b[0m         \u001b[1;32mreturn\u001b[0m \u001b[0mword\u001b[0m\u001b[1;33m\u001b[0m\u001b[1;33m\u001b[0m\u001b[0m\n",
      "\u001b[1;31mTypeError\u001b[0m: lstrip arg must be None or str"
     ]
    }
   ],
   "source": [
    "check_v_c('cmeen')"
   ]
  },
  {
   "cell_type": "code",
   "execution_count": null,
   "metadata": {},
   "outputs": [],
   "source": []
  }
 ],
 "metadata": {
  "kernelspec": {
   "display_name": "Python 3",
   "language": "python",
   "name": "python3"
  },
  "language_info": {
   "codemirror_mode": {
    "name": "ipython",
    "version": 3
   },
   "file_extension": ".py",
   "mimetype": "text/x-python",
   "name": "python",
   "nbconvert_exporter": "python",
   "pygments_lexer": "ipython3",
   "version": "3.7.6"
  }
 },
 "nbformat": 4,
 "nbformat_minor": 4
}
